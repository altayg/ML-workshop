{
 "cells": [
  {
   "cell_type": "code",
   "execution_count": 1,
   "metadata": {},
   "outputs": [],
   "source": [
    "#My practice on PyTorch\n",
    "# Original sources of this practice can be found in\n",
    "#https://classroom.udacity.com/courses/ud188/"
   ]
  },
  {
   "cell_type": "code",
   "execution_count": 2,
   "metadata": {},
   "outputs": [
    {
     "name": "stdout",
     "output_type": "stream",
     "text": [
      "1.0.0.dev20181205\n"
     ]
    }
   ],
   "source": [
    "import torch\n",
    "print(torch.__version__)"
   ]
  },
  {
   "cell_type": "code",
   "execution_count": 3,
   "metadata": {},
   "outputs": [],
   "source": [
    "# Import necessary packages\n",
    "\n",
    "%matplotlib inline\n",
    "%config InlineBackend.figure_format = 'retina'\n",
    "\n",
    "import numpy as np\n",
    "import torch\n",
    "\n",
    "import matplotlib.pyplot as plt"
   ]
  },
  {
   "cell_type": "code",
   "execution_count": 4,
   "metadata": {},
   "outputs": [],
   "source": [
    "#for reproducable results set a seed for randomizations.\n",
    "torch.manual_seed(7) # Set the random seed so things are predictable\n",
    "\n",
    "# Get the MNIST data from torchvision\n",
    "# if you want, change the batch size. \n",
    "from torchvision import datasets, transforms\n",
    "\n",
    "# Define a transform to normalize the data\n",
    "transform = transforms.Compose([transforms.ToTensor(),\n",
    "                              transforms.Normalize((0.5,), (0.5,)),\n",
    "                              ])\n",
    "# Download and load the training data\n",
    "trainset = datasets.MNIST('~/.pytorch/MNIST_data/', download=True, train=True, transform=transform)\n",
    "trainloader = torch.utils.data.DataLoader(trainset, batch_size=64, shuffle=True)"
   ]
  },
  {
   "cell_type": "code",
   "execution_count": 5,
   "metadata": {},
   "outputs": [],
   "source": [
    "import torch\n",
    "from torch import nn\n",
    "import torch.nn.functional as F\n",
    "from torch import optim #For Optimizing the loss(cost)function. "
   ]
  },
  {
   "cell_type": "code",
   "execution_count": 6,
   "metadata": {},
   "outputs": [
    {
     "name": "stdout",
     "output_type": "stream",
     "text": [
      "1.0.0.dev20181205\n"
     ]
    }
   ],
   "source": [
    "# First, import latest PyTorch\n",
    "import torch\n",
    "print(torch.__version__)"
   ]
  },
  {
   "cell_type": "code",
   "execution_count": 7,
   "metadata": {},
   "outputs": [
    {
     "name": "stdout",
     "output_type": "stream",
     "text": [
      "Training loss: 1.9467678181906498\n",
      "Training loss: 0.9087285091882067\n",
      "Training loss: 0.5548092122398206\n",
      "Training loss: 0.44350921349929595\n",
      "Training loss: 0.39096257233543436\n"
     ]
    }
   ],
   "source": [
    "# First run with PyTorch available functions. Code is mostly self readable.\n",
    "model = nn.Sequential(nn.Linear(784, 128), #input layer\n",
    "                      nn.ReLU(),\n",
    "                      nn.Linear(128, 32),  #hiden layer\n",
    "                      nn.ReLU(),\n",
    "                      nn.Linear(32, 10),  #hiden layer\n",
    "                      nn.LogSoftmax(dim=1)) #activation to get probablities for each output\n",
    "\n",
    "##the negative log likelihood loss, nn.NLLLoss\n",
    "criterion = nn.NLLLoss()#loss (cost) function is called the criterion to be optimized.\n",
    "#optimizer object is initilized as follows, lr is the learning rate\n",
    "#optimizer = optim.SGD(model.parameters(), lr=0.01)\n",
    "optimizer = optim.SGD(model.parameters(), lr=0.003)\n",
    "\n",
    "epochs = 5\n",
    "for e in range(epochs):\n",
    "    running_loss = 0\n",
    "    for images, labels in trainloader:\n",
    "        # Flatten MNIST images into a 784 long vector\n",
    "        images = images.view(images.shape[0], -1)\n",
    "    \n",
    "        # This line is specific to PyTorch not to accumulate the gradients at each iteration.\n",
    "        optimizer.zero_grad()\n",
    "        \n",
    "        output = model(images)\n",
    "        loss = criterion(output, labels)\n",
    "        loss.backward()\n",
    "        optimizer.step()\n",
    "        \n",
    "        running_loss += loss.item()\n",
    "    else:\n",
    "        print(f\"Training loss: {running_loss/len(trainloader)}\")"
   ]
  },
  {
   "cell_type": "code",
   "execution_count": 8,
   "metadata": {},
   "outputs": [
    {
     "data": {
      "image/png": "[encoded data removed]",
      "text/plain": [
       "<Figure size 432x648 with 2 Axes>"
      ]
     },
     "metadata": {
      "image/png": {
       "height": 224,
       "width": 423
      },
      "needs_background": "light"
     },
     "output_type": "display_data"
    }
   ],
   "source": [
    "#It looks the model reduced the loss function and working as intended.\n",
    "#Lets see what it gives after the training.\n",
    "\n",
    "%matplotlib inline\n",
    "#for a nice visulization, we will uze helper module of Udacity course. \n",
    "#   which should be in the same folder as this notebook.\n",
    "import helper\n",
    "\n",
    "images, labels = next(iter(trainloader)) # this provides new images for testing the model.\n",
    "\n",
    "img = images[0].view(1, 784)\n",
    "#Turn off gradients (this is model testing!) \n",
    "#You can turn off gradients for a block of code with the torch.no_grad()\n",
    "with torch.no_grad():\n",
    "    logps = model(img)\n",
    "\n",
    "#Output of the network are log-probabilities, need to take exponential for probabilities\n",
    "ps = torch.exp(logps)\n",
    "helper.view_classify(img.view(1, 28, 28), ps)\n"
   ]
  },
  {
   "cell_type": "code",
   "execution_count": 9,
   "metadata": {},
   "outputs": [
    {
     "name": "stdout",
     "output_type": "stream",
     "text": [
      "Linear(in_features=128, out_features=32, bias=True)\n",
      "Parameter containing:\n",
      "tensor([[ 0.0149, -0.0075, -0.0355,  ...,  0.0886,  0.0150,  0.0865],\n",
      "        [ 0.0408, -0.0341,  0.0618,  ...,  0.0191,  0.1095,  0.0867],\n",
      "        [ 0.0730, -0.0516,  0.0719,  ...,  0.0750, -0.0106, -0.0280],\n",
      "        ...,\n",
      "        [ 0.0379, -0.0834,  0.0150,  ...,  0.0630, -0.0842,  0.0472],\n",
      "        [-0.0460, -0.0166,  0.0526,  ...,  0.0524,  0.0571,  0.0828],\n",
      "        [ 0.0068,  0.0798,  0.0168,  ...,  0.0292, -0.0891, -0.0973]],\n",
      "       requires_grad=True)\n",
      "Gradient - tensor([[ 0.0494,  0.0033,  0.0000,  ...,  0.0152,  0.0266,  0.0193],\n",
      "        [-0.0635, -0.0102,  0.0000,  ..., -0.0167, -0.0367, -0.0308],\n",
      "        [-0.0172, -0.0019,  0.0000,  ..., -0.0057, -0.0049, -0.0068],\n",
      "        ...,\n",
      "        [ 0.0000,  0.0000,  0.0000,  ...,  0.0000,  0.0000,  0.0000],\n",
      "        [ 0.0000,  0.0000,  0.0000,  ...,  0.0000,  0.0000,  0.0000],\n",
      "        [ 0.0006, -0.0003,  0.0000,  ..., -0.0039,  0.0015,  0.0028]])\n"
     ]
    }
   ],
   "source": [
    "print(model[2])\n",
    "print(model[2].weight)\n",
    "print('Gradient -', model[2].weight.grad) #we can get gradients at each layer!"
   ]
  },
  {
   "cell_type": "code",
   "execution_count": 10,
   "metadata": {},
   "outputs": [
    {
     "name": "stdout",
     "output_type": "stream",
     "text": [
      "Linear(in_features=32, out_features=10, bias=True)\n"
     ]
    },
    {
     "data": {
      "text/plain": [
       "Parameter containing:\n",
       "tensor([[ 0.3168, -0.1083, -0.1158, -0.1205,  0.3255,  0.0762, -0.1751,  0.2457,\n",
       "          0.1131, -0.0437,  0.0696, -0.4112, -0.1069, -0.1772,  0.0072,  0.1940,\n",
       "          0.0373,  0.3112,  0.3497, -0.1683,  0.0848,  0.0209,  0.1769,  0.1441,\n",
       "         -0.1918, -0.0661, -0.1273,  0.1604, -0.0580,  0.0861, -0.1765, -0.3111],\n",
       "        [-0.0129,  0.1997,  0.0478,  0.1586, -0.1735, -0.1269,  0.2885, -0.2005,\n",
       "          0.2187, -0.1452,  0.0019,  0.2877,  0.1432, -0.1801,  0.0708, -0.3483,\n",
       "          0.1842, -0.1521, -0.2603,  0.0976, -0.0851, -0.2296,  0.0642, -0.0117,\n",
       "          0.3186, -0.1696,  0.3581, -0.1746, -0.1157,  0.0107, -0.1633, -0.1660],\n",
       "        [ 0.1931,  0.4290,  0.0021,  0.1671,  0.3113,  0.1482, -0.2360, -0.0893,\n",
       "         -0.0588, -0.1296,  0.1177,  0.2565,  0.1261, -0.2537, -0.1407,  0.1698,\n",
       "         -0.1119,  0.2271, -0.0964,  0.0885, -0.2839,  0.1739, -0.2718, -0.0111,\n",
       "         -0.1088, -0.0901,  0.3235,  0.2980,  0.1622, -0.1499,  0.1151, -0.0848],\n",
       "        [-0.2737, -0.0721,  0.2725, -0.1694,  0.2495, -0.2074, -0.2448, -0.1703,\n",
       "         -0.2192, -0.0586, -0.0875,  0.0629,  0.1727, -0.2153,  0.0163, -0.1453,\n",
       "          0.1493,  0.2568, -0.1153,  0.0965,  0.2971, -0.1998,  0.2961,  0.1065,\n",
       "          0.1198,  0.1127,  0.1723,  0.3124, -0.1327,  0.0302,  0.0072,  0.2172],\n",
       "        [-0.2338, -0.1021, -0.2106,  0.0365,  0.1367, -0.1394,  0.3463,  0.1085,\n",
       "          0.0126,  0.1015, -0.0639, -0.2198, -0.1588,  0.2628, -0.1278,  0.0797,\n",
       "         -0.2448, -0.2164,  0.1972,  0.0992, -0.2341,  0.0976, -0.2861, -0.1018,\n",
       "         -0.2341, -0.0326,  0.0340, -0.0840, -0.1051, -0.1389,  0.0226,  0.4658],\n",
       "        [-0.1130,  0.1459,  0.3254, -0.0133, -0.2533,  0.2482,  0.1908,  0.1482,\n",
       "         -0.0815,  0.0656, -0.2916, -0.2923,  0.1356, -0.0139, -0.1398,  0.2228,\n",
       "         -0.0116, -0.0037, -0.0265, -0.2367,  0.2382,  0.0951,  0.2725, -0.0601,\n",
       "          0.0767, -0.0650, -0.1348,  0.0704,  0.1508,  0.0233, -0.0332,  0.0927],\n",
       "        [ 0.2282, -0.1087,  0.0386, -0.1435, -0.3252, -0.0038, -0.0979, -0.1626,\n",
       "          0.0318, -0.1420,  0.1343,  0.0072, -0.0911, -0.1411, -0.0890, -0.3164,\n",
       "          0.1691,  0.0324,  0.3494,  0.0383, -0.1210,  0.6415, -0.0932,  0.1252,\n",
       "         -0.2358,  0.1232,  0.0413, -0.1223,  0.0899, -0.1189,  0.1589,  0.1196],\n",
       "        [-0.0542,  0.0337, -0.2662,  0.0093, -0.0851, -0.2867, -0.2165, -0.2723,\n",
       "          0.2482,  0.0891, -0.0107, -0.0672, -0.0302,  0.5276, -0.0754, -0.0398,\n",
       "          0.3411,  0.2046,  0.2328,  0.2220, -0.0179, -0.4226, -0.2768, -0.1364,\n",
       "          0.2634, -0.1220, -0.1993,  0.0430,  0.0530, -0.0705, -0.0634, -0.1637],\n",
       "        [ 0.1502, -0.1340,  0.1002, -0.0710, -0.0613,  0.3582, -0.1979,  0.3244,\n",
       "          0.0523,  0.1256,  0.1239,  0.2110,  0.1359,  0.0672, -0.0508,  0.0767,\n",
       "         -0.3148, -0.0392, -0.4158,  0.0399, -0.0946,  0.0129,  0.2323, -0.0079,\n",
       "         -0.0705, -0.1725,  0.1616, -0.2906,  0.0273, -0.1013, -0.0333,  0.0996],\n",
       "        [-0.0541, -0.1817, -0.2475, -0.1015,  0.1786, -0.0324,  0.2449,  0.1601,\n",
       "         -0.2355, -0.0023,  0.1701, -0.0230, -0.1762,  0.4406, -0.0294,  0.1558,\n",
       "         -0.0092, -0.0232, -0.3292,  0.3043, -0.0849, -0.1841, -0.0292,  0.1663,\n",
       "         -0.1384,  0.1497, -0.2944, -0.1410,  0.1348, -0.0760, -0.1089, -0.1973]],\n",
       "       requires_grad=True)"
      ]
     },
     "execution_count": 10,
     "metadata": {},
     "output_type": "execute_result"
    }
   ],
   "source": [
    "print(model[4])\n",
    "model[4].weight"
   ]
  },
  {
   "cell_type": "code",
   "execution_count": 11,
   "metadata": {},
   "outputs": [
    {
     "name": "stdout",
     "output_type": "stream",
     "text": [
      "Linear(in_features=784, out_features=128, bias=True)\n",
      "ReLU()\n",
      "Linear(in_features=128, out_features=32, bias=True)\n",
      "ReLU()\n",
      "Linear(in_features=32, out_features=10, bias=True)\n",
      "LogSoftmax()\n"
     ]
    },
    {
     "data": {
      "text/plain": [
       "[None, None, None, None, None, None]"
      ]
     },
     "execution_count": 11,
     "metadata": {},
     "output_type": "execute_result"
    }
   ],
   "source": [
    "#model object provide paramteres in sequential order starting from 0.\n",
    "#activation outputs  do not have weight parameters.\n",
    "#Let's print all the model components from the object model.\n",
    "[print(x) for x in model]"
   ]
  },
  {
   "cell_type": "code",
   "execution_count": 12,
   "metadata": {},
   "outputs": [
    {
     "name": "stdout",
     "output_type": "stream",
     "text": [
      "Training loss: 1.9345243864222121\n",
      "Training loss: 0.9274066845173521\n",
      "Training loss: 0.5593829216606327\n",
      "Training loss: 0.4523042079799973\n",
      "Training loss: 0.4009161371348509\n"
     ]
    }
   ],
   "source": [
    "#better practice for setting #NN perceptrons.\n",
    "# Set hyperparameters for the network seperately\n",
    "input_size = 784\n",
    "hidden_sizes = [128, 32]\n",
    "output_size = 10\n",
    "\n",
    "# Let's add names to each model layer. \n",
    "#Then we do not have to use indices in the model object.\n",
    "\n",
    "from collections import OrderedDict\n",
    "model = nn.Sequential(OrderedDict([\n",
    "                      ('fc1', nn.Linear(input_size, hidden_sizes[0])),\n",
    "                      ('relu1', nn.ReLU()),\n",
    "                      ('fc2', nn.Linear(hidden_sizes[0], hidden_sizes[1])),\n",
    "                      ('relu2', nn.ReLU()),\n",
    "                      ('output', nn.Linear(hidden_sizes[1], output_size)),\n",
    "                      ('LogSoftmax', nn.LogSoftmax(dim=1))]))\n",
    "                    #activation to get probablities for each output. \n",
    "                    #dim=1 works on columns. For each output, seperate probability.\n",
    "\n",
    "\n",
    "##the negative log likelihood loss, nn.NLLLoss\n",
    "criterion = nn.NLLLoss()#loss (cost) function is called the criterion to be optimized.\n",
    "#optimizer object is initilized as follows, lr is the learning rate\n",
    "#optimizer = optim.SGD(model.parameters(), lr=0.01)\n",
    "optimizer = optim.SGD(model.parameters(), lr=0.003)\n",
    "\n",
    "epochs = 5\n",
    "for e in range(epochs):\n",
    "    running_loss = 0\n",
    "    for images, labels in trainloader:\n",
    "        # Flatten MNIST images into a 784 long vector\n",
    "        images = images.view(images.shape[0], -1)\n",
    "    \n",
    "        # This line is specific to PyTorch not to accumulate the gradients at each iteration.\n",
    "        optimizer.zero_grad()\n",
    "        \n",
    "        output = model(images)\n",
    "        loss = criterion(output, labels)\n",
    "        loss.backward()\n",
    "        optimizer.step()\n",
    "        \n",
    "        running_loss += loss.item()\n",
    "    else:\n",
    "        print(f\"Training loss: {running_loss/len(trainloader)}\")"
   ]
  },
  {
   "cell_type": "code",
   "execution_count": 13,
   "metadata": {},
   "outputs": [
    {
     "data": {
      "image/png": "[encoded data removed]",
      "text/plain": [
       "<Figure size 432x648 with 2 Axes>"
      ]
     },
     "metadata": {
      "image/png": {
       "height": 224,
       "width": 423
      },
      "needs_background": "light"
     },
     "output_type": "display_data"
    }
   ],
   "source": [
    "#Lets see what it gives after the training.\n",
    "\n",
    "%matplotlib inline\n",
    "import helper\n",
    "\n",
    "images, labels = next(iter(trainloader)) # this provides new images for testing the model.\n",
    "\n",
    "img = images[0].view(1, 784)\n",
    "#Turn off gradients (this is model testing!) \n",
    "#You can turn off gradients for a block of code with the torch.no_grad()\n",
    "with torch.no_grad():\n",
    "    logps = model(img)\n",
    "\n",
    "#Output of the network are log-probabilities, need to take exponential for probabilities\n",
    "ps = torch.exp(logps)\n",
    "helper.view_classify(img.view(1, 28, 28), ps)"
   ]
  },
  {
   "cell_type": "code",
   "execution_count": 14,
   "metadata": {},
   "outputs": [
    {
     "name": "stdout",
     "output_type": "stream",
     "text": [
      "Linear(in_features=128, out_features=32, bias=True)\n",
      "Linear(in_features=128, out_features=32, bias=True)\n",
      "Parameter containing:\n",
      "tensor([[ 0.0881,  0.0065, -0.0873,  ...,  0.1583,  0.1414,  0.0107],\n",
      "        [ 0.1500, -0.1003, -0.0389,  ...,  0.0210,  0.0655, -0.0358],\n",
      "        [ 0.0699, -0.0121,  0.0673,  ..., -0.0080,  0.0834,  0.0049],\n",
      "        ...,\n",
      "        [ 0.0463,  0.0513, -0.0403,  ...,  0.1298, -0.0915,  0.0715],\n",
      "        [ 0.0963,  0.0401, -0.0955,  ..., -0.0397, -0.1095, -0.0516],\n",
      "        [-0.0530,  0.0378,  0.0055,  ..., -0.0091,  0.0321,  0.0261]],\n",
      "       requires_grad=True)\n",
      "Gradient - tensor([[ 2.8978e-02,  2.8501e-03, -3.4530e-03,  ...,  1.6757e-02,\n",
      "         -3.8375e-03,  0.0000e+00],\n",
      "        [ 4.8928e-03,  5.2775e-03,  1.3335e-03,  ...,  7.2881e-03,\n",
      "          1.9913e-03,  0.0000e+00],\n",
      "        [ 0.0000e+00,  0.0000e+00,  0.0000e+00,  ...,  0.0000e+00,\n",
      "          0.0000e+00,  0.0000e+00],\n",
      "        ...,\n",
      "        [ 1.6715e-02,  3.7063e-05, -1.8800e-03,  ...,  3.8116e-03,\n",
      "         -5.9318e-03,  0.0000e+00],\n",
      "        [-3.7294e-02, -1.2876e-02, -3.6412e-04,  ..., -3.1792e-02,\n",
      "         -8.2727e-03,  0.0000e+00],\n",
      "        [ 0.0000e+00,  0.0000e+00,  0.0000e+00,  ...,  0.0000e+00,\n",
      "          0.0000e+00,  0.0000e+00]])\n"
     ]
    }
   ],
   "source": [
    "#use the assigned labels to access parameters\n",
    "print(model[2])\n",
    "print(model.fc2)\n",
    "print(model.fc2.weight)\n",
    "print('Gradient -', model.fc2.weight.grad) #we can get gradients at each layer!"
   ]
  },
  {
   "cell_type": "code",
   "execution_count": null,
   "metadata": {},
   "outputs": [],
   "source": []
  }
 ],
 "metadata": {
  "kernelspec": {
   "display_name": "Python 3",
   "language": "python",
   "name": "python3"
  },
  "language_info": {
   "codemirror_mode": {
    "name": "ipython",
    "version": 3
   },
   "file_extension": ".py",
   "mimetype": "text/x-python",
   "name": "python",
   "nbconvert_exporter": "python",
   "pygments_lexer": "ipython3",
   "version": "3.7.0"
  }
 },
 "nbformat": 4,
 "nbformat_minor": 2
}
